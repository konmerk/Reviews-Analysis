{
  "nbformat": 4,
  "nbformat_minor": 0,
  "metadata": {
    "colab": {
      "provenance": [],
      "authorship_tag": "ABX9TyOliDVXjWrnF/3A/+IRwg1k"
    },
    "kernelspec": {
      "name": "python3",
      "display_name": "Python 3"
    },
    "language_info": {
      "name": "python"
    }
  },
  "cells": [
    {
      "cell_type": "code",
      "source": [
        "import requests as rq\n",
        "from bs4 import BeautifulSoup as bs\n",
        "import pandas as pd\n",
        "import re\n",
        "from random import randint\n",
        "from time import sleep\n",
        "import datetime\n",
        "import matplotlib.pyplot as plt\n",
        "import seaborn as sns\n",
        "import plotly.express as px\n",
        "\n",
        "#Adding headers to avoid getting blocked by website\n",
        "headers = {'User-Agent':'Mozilla/5.0 (Windows NT 10.0; Win64; x64) AppleWebKit/537.36 (KHTML, like Gecko) Chrome/108.0.0.0 Safari/537.36'}\n",
        "reviews = []\n",
        "\n",
        "#Function to extract text from the HTML element\n",
        "def extract_text(item, selector):\n",
        "    try:\n",
        "      return item.find(selector).text\n",
        "    except AttributeError:\n",
        "      return None\n",
        "\n",
        "#Function to get reviews from a given page\n",
        "def getReviews(page):\n",
        "\n",
        "    #URL for the page\n",
        "    url = f'https://uk.trustpilot.com/review/azimo.com?page={page}'\n",
        "    r = rq.get(url, headers=headers)\n",
        "    soup = bs(r.text, 'html.parser')\n",
        "\n",
        "    #Extracting reviews\n",
        "    company_review = soup.findAll('div', attrs = {'class':'styles_cardWrapper__LcCPA styles_show__HUXRb styles_reviewCard__9HxJJ'}) \n",
        "\n",
        "    for item in company_review:\n",
        "\n",
        "        tag_reviews = 'p', {'class': 'typography_body-l__KUYFJ typography_appearance-default__AAY17 typography_color-black__5LYEn'}\n",
        "        tag_title = 'h2',{'class': 'typography_heading-s__f7029 typography_appearance-default__AAY17' }\n",
        "\n",
        "        columns = {\n",
        "        'title':extract_text(item,tag_title) ,\n",
        "        'reviews':extract_text(item,tag_reviews),\n",
        "        'location': item.find('div', {'class': 'typography_body-m__xgxZ_ typography_appearance-subtle__8_H2l styles_detailsIcon__Fo_ua'}).text,\n",
        "        'ratings': str(item.find_all('img', alt = True)),\n",
        "        'datetime': item.time.attrs['datetime'],\n",
        "        \n",
        "        }\n",
        "        #Appending the extracted data to the reviews list\n",
        "        reviews.append(columns)    \n",
        "    return\n",
        "\n",
        "#Loop to get reviews from multiple pages    \n",
        "for x in range(1,7):\n",
        "    print('Downloading page number', x)\n",
        "    getReviews(x)\n",
        "\n",
        "    #Adding random sleep time between requests to avoid getting blocked\n",
        "    sleep(randint(3, 5))\n",
        "\n",
        "#Creating a DataFrame from the reviews list\n",
        "df = pd.DataFrame(reviews)\n",
        "\n",
        "df\n",
        "#Writing the DataFrame to an excel file\n",
        "df.to_excel('raw_reviews.xlsx', index=False)\n",
        "train = df.copy()\n",
        "\n",
        "try:\n",
        "    train['ratings'] = train['ratings'].str.extract('Rated (.+?) out of', expand=False).str.strip()\n",
        "except AttributeError:\n",
        "    train['ratings'] = \"none\"\n",
        "\n",
        "\n",
        "def time_convert(date_to_convert):\n",
        "     return datetime.datetime.strptime(date_to_convert, '%Y-%m-%dT%H:%M:%S.%f%z').strftime('%H:%M:%S')\n",
        "\n",
        "def date(date_to_convert):\n",
        "     return datetime.datetime.strptime(date_to_convert, '%Y-%m-%dT%H:%M:%S.%f%z').strftime('%d/%m/%Y')\n",
        "\n",
        "train['time'] = train['datetime'].apply(time_convert)\n",
        "train['date'] = train['datetime'].apply(date)\n",
        "train.drop(['datetime'], axis=1, inplace=True)\n",
        "train\n",
        "\n",
        "train.to_excel('cleaned_reviews.xlsx', index=False)\n",
        "\n",
        "\n",
        "\n",
        "# Get count of ratings\n",
        "rating_counts = train['ratings'].value_counts()\n",
        "\n",
        "# Set figure size and title\n",
        "plt.figure(figsize=(10, 6))\n",
        "plt.title('Distribution of Ratings')\n",
        "\n",
        "# Plot bar chart\n",
        "plt.bar(rating_counts.index, rating_counts.values)\n",
        "\n",
        "# Set x-axis tick labels\n",
        "plt.xticks(rating_counts.index)\n",
        "\n",
        "# Show plot\n",
        "plt.show()\n",
        "\n",
        "\n",
        "\n"
      ],
      "metadata": {
        "colab": {
          "base_uri": "https://localhost:8080/",
          "height": 649
        },
        "id": "Q4koI_xroEcV",
        "outputId": "408a1706-f4cc-4a36-eae1-5d68decffcad"
      },
      "execution_count": null,
      "outputs": [
        {
          "output_type": "stream",
          "name": "stdout",
          "text": [
            "Downloading page number 1\n",
            "Downloading page number 2\n",
            "Downloading page number 3\n",
            "Downloading page number 4\n",
            "Downloading page number 5\n",
            "Downloading page number 6\n"
          ]
        },
        {
          "output_type": "display_data",
          "data": {
            "text/plain": [
              "<Figure size 1000x600 with 1 Axes>"
            ],
            "image/png": "[encoded data removed]"
          },
          "metadata": {}
        }
      ]
    }
  ]
}